{
 "cells": [
  {
   "attachments": {},
   "cell_type": "markdown",
   "metadata": {},
   "source": [
    "# Prepare atlas"
   ]
  },
  {
   "cell_type": "code",
   "execution_count": 2,
   "metadata": {},
   "outputs": [],
   "source": [
    "!3dresample -master cluster11_Insula_R.nii -input AAL_brain.nii.gz -prefix AAL_brain_matchedCluster.nii.gz -rmode NN"
   ]
  },
  {
   "attachments": {},
   "cell_type": "markdown",
   "metadata": {},
   "source": [
    "# Cluster location"
   ]
  },
  {
   "attachments": {},
   "cell_type": "markdown",
   "metadata": {},
   "source": [
    "Load the atlas image and information."
   ]
  },
  {
   "cell_type": "code",
   "execution_count": 16,
   "metadata": {},
   "outputs": [
    {
     "data": {
      "text/html": [
       "<div>\n",
       "<style scoped>\n",
       "    .dataframe tbody tr th:only-of-type {\n",
       "        vertical-align: middle;\n",
       "    }\n",
       "\n",
       "    .dataframe tbody tr th {\n",
       "        vertical-align: top;\n",
       "    }\n",
       "\n",
       "    .dataframe thead th {\n",
       "        text-align: right;\n",
       "    }\n",
       "</style>\n",
       "<table border=\"1\" class=\"dataframe\">\n",
       "  <thead>\n",
       "    <tr style=\"text-align: right;\">\n",
       "      <th></th>\n",
       "      <th>OldIndex</th>\n",
       "      <th>Name</th>\n",
       "    </tr>\n",
       "    <tr>\n",
       "      <th>Index</th>\n",
       "      <th></th>\n",
       "      <th></th>\n",
       "    </tr>\n",
       "  </thead>\n",
       "  <tbody>\n",
       "    <tr>\n",
       "      <th>1</th>\n",
       "      <td>2001</td>\n",
       "      <td>Precentral_L</td>\n",
       "    </tr>\n",
       "    <tr>\n",
       "      <th>2</th>\n",
       "      <td>2002</td>\n",
       "      <td>Precentral_R</td>\n",
       "    </tr>\n",
       "    <tr>\n",
       "      <th>3</th>\n",
       "      <td>2101</td>\n",
       "      <td>Frontal_Sup_L</td>\n",
       "    </tr>\n",
       "    <tr>\n",
       "      <th>4</th>\n",
       "      <td>2102</td>\n",
       "      <td>Frontal_Sup_R</td>\n",
       "    </tr>\n",
       "    <tr>\n",
       "      <th>5</th>\n",
       "      <td>2111</td>\n",
       "      <td>Frontal_Sup_Orb_L</td>\n",
       "    </tr>\n",
       "  </tbody>\n",
       "</table>\n",
       "</div>"
      ],
      "text/plain": [
       "       OldIndex               Name\n",
       "Index                             \n",
       "1          2001       Precentral_L\n",
       "2          2002       Precentral_R\n",
       "3          2101      Frontal_Sup_L\n",
       "4          2102      Frontal_Sup_R\n",
       "5          2111  Frontal_Sup_Orb_L"
      ]
     },
     "execution_count": 16,
     "metadata": {},
     "output_type": "execute_result"
    }
   ],
   "source": [
    "import pandas as pd\n",
    "import nibabel as nib\n",
    "\n",
    "atlasData = nib.load(\"AAL_brain_matchedCluster.nii.gz\").get_fdata()\n",
    "atlasInfo = pd.read_csv(\"AAL_brain.csv\", header=0, index_col=0)\n",
    "atlasInfo.head()"
   ]
  },
  {
   "attachments": {},
   "cell_type": "markdown",
   "metadata": {},
   "source": [
    "Load the cluster image."
   ]
  },
  {
   "cell_type": "code",
   "execution_count": 20,
   "metadata": {},
   "outputs": [],
   "source": [
    "import numpy as np\n",
    "\n",
    "clsImg = nib.load(\"cluster11_Insula_R.nii\")\n",
    "clsData = clsImg.get_fdata()\n",
    "clsDataMask = np.copy(clsData)\n",
    "clsDataMask[clsDataMask != 0] = 1\n",
    "\n",
    "resTab = pd.DataFrame()\n",
    "for i in atlasInfo.index.values:\n",
    "    # mask of roi\n",
    "    tmpRoiData = np.zeros(shape=atlasData.shape)\n",
    "    tmpRoiData[atlasData == i] = 1\n",
    "    \n",
    "    tmpOverlaped = clsDataMask * tmpRoiData\n",
    "    tmpNumVoxel = np.nansum(tmpOverlaped[:])\n",
    "    tmpRate = tmpNumVoxel / np.nansum(tmpRoiData[:])\n",
    "    \n",
    "    # save results\n",
    "    resTab = pd.concat([resTab, pd.DataFrame({\"ROIINDEX\": [i], \"ROINAME\": [atlasInfo.loc[i, \"Name\"]], \"OVERLAP_NUMVOXEL\": [tmpNumVoxel], \"OVERLAP_RATE\": [tmpRate]})])\n",
    "\n",
    "# sort by number of voxel in overlap\n",
    "resTab = resTab.sort_values(by=[\"OVERLAP_NUMVOXEL\"], ascending=False)\n",
    "resTab = resTab[resTab.OVERLAP_NUMVOXEL != 0]\n",
    "resTab.to_csv(\"ReportsWithAAL_cluster11_Insula_R.csv\", index=False)"
   ]
  },
  {
   "attachments": {},
   "cell_type": "markdown",
   "metadata": {},
   "source": [
    "Locating the peak."
   ]
  },
  {
   "cell_type": "code",
   "execution_count": 25,
   "metadata": {},
   "outputs": [
    {
     "data": {
      "text/plain": [
       "(array([27]), array([79]), array([44]))"
      ]
     },
     "execution_count": 25,
     "metadata": {},
     "output_type": "execute_result"
    }
   ],
   "source": [
    "import nibabel as nib\n",
    "import numpy as np\n",
    "\n",
    "clsImg = nib.load(\"cluster11_Insula_R.nii\")\n",
    "clsData = clsImg.get_fdata()\n",
    "clsDataAbs = np.abs(clsData)\n",
    "maxIndex = np.where(clsDataAbs == clsDataAbs.max())\n",
    "maxIndex"
   ]
  },
  {
   "cell_type": "code",
   "execution_count": 34,
   "metadata": {},
   "outputs": [
    {
     "data": {
      "text/plain": [
       "array([[48. ],\n",
       "       [ 1.5],\n",
       "       [-3. ],\n",
       "       [ 1. ]])"
      ]
     },
     "execution_count": 34,
     "metadata": {},
     "output_type": "execute_result"
    }
   ],
   "source": [
    "np.dot(clsImg.affine, np.reshape(np.array([24, 81, 46, 1]), [4, 1]))"
   ]
  }
 ],
 "metadata": {
  "kernelspec": {
   "display_name": "pyenv",
   "language": "python",
   "name": "python3"
  },
  "language_info": {
   "codemirror_mode": {
    "name": "ipython",
    "version": 3
   },
   "file_extension": ".py",
   "mimetype": "text/x-python",
   "name": "python",
   "nbconvert_exporter": "python",
   "pygments_lexer": "ipython3",
   "version": "3.10.10"
  },
  "orig_nbformat": 4
 },
 "nbformat": 4,
 "nbformat_minor": 2
}
